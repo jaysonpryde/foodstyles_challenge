{
 "cells": [
  {
   "cell_type": "code",
   "execution_count": 31,
   "metadata": {},
   "outputs": [],
   "source": [
    "import os, sys, simplejson\n",
    "import numpy as np, pandas as pd\n",
    "import matplotlib.pyplot as plt\n",
    "\n",
    "# tf and keras\n",
    "import keras, tensorflow as tf\n",
    "from tensorflow.keras import layers\n",
    "from keras.preprocessing.sequence import pad_sequences\n",
    "\n",
    "# spacy\n",
    "import spacy\n",
    "import en_core_web_sm"
   ]
  },
  {
   "cell_type": "markdown",
   "metadata": {},
   "source": [
    "### Load data and pre-process data"
   ]
  },
  {
   "cell_type": "code",
   "execution_count": 2,
   "metadata": {},
   "outputs": [
    {
     "data": {
      "text/html": [
       "<div>\n",
       "<style scoped>\n",
       "    .dataframe tbody tr th:only-of-type {\n",
       "        vertical-align: middle;\n",
       "    }\n",
       "\n",
       "    .dataframe tbody tr th {\n",
       "        vertical-align: top;\n",
       "    }\n",
       "\n",
       "    .dataframe thead th {\n",
       "        text-align: right;\n",
       "    }\n",
       "</style>\n",
       "<table border=\"1\" class=\"dataframe\">\n",
       "  <thead>\n",
       "    <tr style=\"text-align: right;\">\n",
       "      <th></th>\n",
       "      <th>index</th>\n",
       "      <th>Recipe Name</th>\n",
       "      <th>Review Count</th>\n",
       "      <th>Recipe Photo</th>\n",
       "      <th>Author</th>\n",
       "      <th>Prepare Time</th>\n",
       "      <th>Cook Time</th>\n",
       "      <th>Total Time</th>\n",
       "      <th>Ingredients</th>\n",
       "      <th>Directions</th>\n",
       "      <th>RecipeID</th>\n",
       "    </tr>\n",
       "  </thead>\n",
       "  <tbody>\n",
       "    <tr>\n",
       "      <th>0</th>\n",
       "      <td>0</td>\n",
       "      <td>Golden Crescent Rolls Recipe</td>\n",
       "      <td>304</td>\n",
       "      <td>https://images.media-allrecipes.com/userphotos...</td>\n",
       "      <td>Mike A.</td>\n",
       "      <td>25 m</td>\n",
       "      <td>15 m</td>\n",
       "      <td>3 h 10 m</td>\n",
       "      <td>yeast,water,white sugar,salt,egg,butter,flour,...</td>\n",
       "      <td>dissolve yeast in warm water.**stir in sugar, ...</td>\n",
       "      <td>7000</td>\n",
       "    </tr>\n",
       "    <tr>\n",
       "      <th>1</th>\n",
       "      <td>1</td>\n",
       "      <td>Poppy Seed Bread with Glaze Recipe</td>\n",
       "      <td>137</td>\n",
       "      <td>https://images.media-allrecipes.com/userphotos...</td>\n",
       "      <td>Christina Jun</td>\n",
       "      <td>15 m</td>\n",
       "      <td>1 h</td>\n",
       "      <td>1 h 20 m</td>\n",
       "      <td>flour,salt,baking powder,poppy,butter,vegetabl...</td>\n",
       "      <td>'preheat oven to 350 degrees f (175 degrees c)...</td>\n",
       "      <td>7001</td>\n",
       "    </tr>\n",
       "    <tr>\n",
       "      <th>2</th>\n",
       "      <td>2</td>\n",
       "      <td>Applesauce Bread I Recipe</td>\n",
       "      <td>124</td>\n",
       "      <td>https://images.media-allrecipes.com/userphotos...</td>\n",
       "      <td>GAF55</td>\n",
       "      <td>10 m</td>\n",
       "      <td>1 h 20 m</td>\n",
       "      <td>1 h 30 m</td>\n",
       "      <td>flour,egg,white sugar,vegetable oil,applesauce...</td>\n",
       "      <td>preheat oven to 350 degrees f (175 degrees c)....</td>\n",
       "      <td>7003</td>\n",
       "    </tr>\n",
       "    <tr>\n",
       "      <th>3</th>\n",
       "      <td>3</td>\n",
       "      <td>Apple Raisin Bread Recipe</td>\n",
       "      <td>39</td>\n",
       "      <td>https://images.media-allrecipes.com/userphotos...</td>\n",
       "      <td>Helen Hanson</td>\n",
       "      <td>15 m</td>\n",
       "      <td>1 h</td>\n",
       "      <td>1 h 15 m</td>\n",
       "      <td>flour,baking powder,baking soda,salt,cinnamon,...</td>\n",
       "      <td>preheat oven to 350 degrees f (175 degrees c)....</td>\n",
       "      <td>7006</td>\n",
       "    </tr>\n",
       "    <tr>\n",
       "      <th>4</th>\n",
       "      <td>4</td>\n",
       "      <td>Buttermilk Oatmeal Bread Recipe</td>\n",
       "      <td>41</td>\n",
       "      <td>https://images.media-allrecipes.com/userphotos...</td>\n",
       "      <td>Helen Hanson</td>\n",
       "      <td>10 m</td>\n",
       "      <td>1 h</td>\n",
       "      <td>1 h 40 m</td>\n",
       "      <td>oat,buttermilk,vegetable oil,egg,brown sugar,f...</td>\n",
       "      <td>mix oats with buttermilk.  let stand for 1/2 h...</td>\n",
       "      <td>7007</td>\n",
       "    </tr>\n",
       "    <tr>\n",
       "      <th>...</th>\n",
       "      <td>...</td>\n",
       "      <td>...</td>\n",
       "      <td>...</td>\n",
       "      <td>...</td>\n",
       "      <td>...</td>\n",
       "      <td>...</td>\n",
       "      <td>...</td>\n",
       "      <td>...</td>\n",
       "      <td>...</td>\n",
       "      <td>...</td>\n",
       "      <td>...</td>\n",
       "    </tr>\n",
       "    <tr>\n",
       "      <th>12340</th>\n",
       "      <td>12346</td>\n",
       "      <td>Hot Coffee Frosting Recipe</td>\n",
       "      <td>5</td>\n",
       "      <td>https://images.media-allrecipes.com/userphotos...</td>\n",
       "      <td>Jean</td>\n",
       "      <td>30 m</td>\n",
       "      <td>30 m</td>\n",
       "      <td>1 h</td>\n",
       "      <td>sugar,butter,cocoa powder,vanilla,coffee</td>\n",
       "      <td>'in a large bowl, combine confectioners'' suga...</td>\n",
       "      <td>27456</td>\n",
       "    </tr>\n",
       "    <tr>\n",
       "      <th>12341</th>\n",
       "      <td>12347</td>\n",
       "      <td>White Chocolate Blueberry Cheesecake Recipe</td>\n",
       "      <td>78</td>\n",
       "      <td>https://images.media-allrecipes.com/userphotos...</td>\n",
       "      <td>Scott M.</td>\n",
       "      <td>20 m</td>\n",
       "      <td>1 h</td>\n",
       "      <td>1 h 20 m</td>\n",
       "      <td>crust:,ham,almond,white sugar,butter,caramel,f...</td>\n",
       "      <td>preheat oven to 275 degrees f (135 degrees c)....</td>\n",
       "      <td>27478</td>\n",
       "    </tr>\n",
       "    <tr>\n",
       "      <th>12342</th>\n",
       "      <td>12348</td>\n",
       "      <td>'Aunt Anne''s Coffee Cake Recipe '</td>\n",
       "      <td>704</td>\n",
       "      <td>https://images.media-allrecipes.com/userphotos...</td>\n",
       "      <td>Mary</td>\n",
       "      <td>20 m</td>\n",
       "      <td>25 m</td>\n",
       "      <td>45 m</td>\n",
       "      <td>flour,white sugar,baking powder,salt,butter,eg...</td>\n",
       "      <td>preheat oven to 350 degrees f (175 degrees c)....</td>\n",
       "      <td>27491</td>\n",
       "    </tr>\n",
       "    <tr>\n",
       "      <th>12343</th>\n",
       "      <td>12349</td>\n",
       "      <td>Giant Ding Dong Cake Recipe</td>\n",
       "      <td>157</td>\n",
       "      <td>https://images.media-allrecipes.com/userphotos...</td>\n",
       "      <td>TheThreeDogKitchen</td>\n",
       "      <td>25 m</td>\n",
       "      <td>50 m</td>\n",
       "      <td>2 h 15 m</td>\n",
       "      <td>cake,chocolate,egg,water,vegetable oil,flour,m...</td>\n",
       "      <td>preheat oven to 350 degrees f (175 degrees c)....</td>\n",
       "      <td>27511</td>\n",
       "    </tr>\n",
       "    <tr>\n",
       "      <th>12344</th>\n",
       "      <td>12350</td>\n",
       "      <td>Peach Coffee Cake Recipe</td>\n",
       "      <td>10</td>\n",
       "      <td>https://images.media-allrecipes.com/userphotos...</td>\n",
       "      <td>David</td>\n",
       "      <td>15 m</td>\n",
       "      <td>50 m</td>\n",
       "      <td>1 h 5 m</td>\n",
       "      <td>peach,brown sugar,cornstarch,vegetable oil,flo...</td>\n",
       "      <td>preheat oven to 350 degrees f (175 degrees c)....</td>\n",
       "      <td>27546</td>\n",
       "    </tr>\n",
       "  </tbody>\n",
       "</table>\n",
       "<p>12345 rows × 11 columns</p>\n",
       "</div>"
      ],
      "text/plain": [
       "       index                                   Recipe Name Review Count  \\\n",
       "0          0                 Golden Crescent Rolls Recipe           304   \n",
       "1          1           Poppy Seed Bread with Glaze Recipe           137   \n",
       "2          2                    Applesauce Bread I Recipe           124   \n",
       "3          3                    Apple Raisin Bread Recipe            39   \n",
       "4          4              Buttermilk Oatmeal Bread Recipe            41   \n",
       "...      ...                                           ...          ...   \n",
       "12340  12346                   Hot Coffee Frosting Recipe             5   \n",
       "12341  12347  White Chocolate Blueberry Cheesecake Recipe            78   \n",
       "12342  12348            'Aunt Anne''s Coffee Cake Recipe '          704   \n",
       "12343  12349                  Giant Ding Dong Cake Recipe           157   \n",
       "12344  12350                     Peach Coffee Cake Recipe            10   \n",
       "\n",
       "                                            Recipe Photo              Author  \\\n",
       "0      https://images.media-allrecipes.com/userphotos...             Mike A.   \n",
       "1      https://images.media-allrecipes.com/userphotos...       Christina Jun   \n",
       "2      https://images.media-allrecipes.com/userphotos...               GAF55   \n",
       "3      https://images.media-allrecipes.com/userphotos...        Helen Hanson   \n",
       "4      https://images.media-allrecipes.com/userphotos...        Helen Hanson   \n",
       "...                                                  ...                 ...   \n",
       "12340  https://images.media-allrecipes.com/userphotos...                Jean   \n",
       "12341  https://images.media-allrecipes.com/userphotos...            Scott M.   \n",
       "12342  https://images.media-allrecipes.com/userphotos...                Mary   \n",
       "12343  https://images.media-allrecipes.com/userphotos...  TheThreeDogKitchen   \n",
       "12344  https://images.media-allrecipes.com/userphotos...               David   \n",
       "\n",
       "      Prepare Time Cook Time Total Time  \\\n",
       "0             25 m      15 m   3 h 10 m   \n",
       "1             15 m       1 h   1 h 20 m   \n",
       "2             10 m  1 h 20 m   1 h 30 m   \n",
       "3             15 m       1 h   1 h 15 m   \n",
       "4             10 m       1 h   1 h 40 m   \n",
       "...            ...       ...        ...   \n",
       "12340         30 m      30 m        1 h   \n",
       "12341         20 m       1 h   1 h 20 m   \n",
       "12342         20 m      25 m       45 m   \n",
       "12343         25 m      50 m   2 h 15 m   \n",
       "12344         15 m      50 m    1 h 5 m   \n",
       "\n",
       "                                             Ingredients  \\\n",
       "0      yeast,water,white sugar,salt,egg,butter,flour,...   \n",
       "1      flour,salt,baking powder,poppy,butter,vegetabl...   \n",
       "2      flour,egg,white sugar,vegetable oil,applesauce...   \n",
       "3      flour,baking powder,baking soda,salt,cinnamon,...   \n",
       "4      oat,buttermilk,vegetable oil,egg,brown sugar,f...   \n",
       "...                                                  ...   \n",
       "12340           sugar,butter,cocoa powder,vanilla,coffee   \n",
       "12341  crust:,ham,almond,white sugar,butter,caramel,f...   \n",
       "12342  flour,white sugar,baking powder,salt,butter,eg...   \n",
       "12343  cake,chocolate,egg,water,vegetable oil,flour,m...   \n",
       "12344  peach,brown sugar,cornstarch,vegetable oil,flo...   \n",
       "\n",
       "                                              Directions  RecipeID  \n",
       "0      dissolve yeast in warm water.**stir in sugar, ...      7000  \n",
       "1      'preheat oven to 350 degrees f (175 degrees c)...      7001  \n",
       "2      preheat oven to 350 degrees f (175 degrees c)....      7003  \n",
       "3      preheat oven to 350 degrees f (175 degrees c)....      7006  \n",
       "4      mix oats with buttermilk.  let stand for 1/2 h...      7007  \n",
       "...                                                  ...       ...  \n",
       "12340  'in a large bowl, combine confectioners'' suga...     27456  \n",
       "12341  preheat oven to 275 degrees f (135 degrees c)....     27478  \n",
       "12342  preheat oven to 350 degrees f (175 degrees c)....     27491  \n",
       "12343  preheat oven to 350 degrees f (175 degrees c)....     27511  \n",
       "12344  preheat oven to 350 degrees f (175 degrees c)....     27546  \n",
       "\n",
       "[12345 rows x 11 columns]"
      ]
     },
     "execution_count": 2,
     "metadata": {},
     "output_type": "execute_result"
    }
   ],
   "source": [
    "recipe_df = pd.read_csv(\"../data/clean_recipes.csv\", header=0, delimiter=\";\")\n",
    "\n",
    "# drop null rows with null Ingredients and Directions\n",
    "recipe_df.dropna(subset = [\"Ingredients\", \"Directions\"], inplace=True)\n",
    "recipe_df.reset_index(inplace=True)\n",
    "\n",
    "# lower case Ingredients and Directions\n",
    "recipe_df[\"Ingredients\"] = recipe_df[\"Ingredients\"].apply(lambda x: x.lower())\n",
    "recipe_df[\"Directions\"] = recipe_df[\"Directions\"].apply(lambda x: x.lower())\n",
    "\n",
    "# # replace <space> with _ for Ingredients column\n",
    "# recipe_df[\"Ingredients\"] = recipe_df[\"Ingredients\"].apply(lambda x: x.replace(\" \", \"_\"))\n",
    "\n",
    "recipe_df"
   ]
  },
  {
   "cell_type": "markdown",
   "metadata": {},
   "source": [
    "### Process columns and plot"
   ]
  },
  {
   "cell_type": "code",
   "execution_count": 3,
   "metadata": {},
   "outputs": [],
   "source": [
    "# process Review Count column\n",
    "\n",
    "def normalize_review_count(x):\n",
    "    if x.endswith(\"k\") or x.endswith(\"K\"):\n",
    "        return int(x[:-1])*1000\n",
    "    else:\n",
    "        return int(x)\n",
    "    \n",
    "recipe_df[\"Review Count\"] = recipe_df[\"Review Count\"].apply(normalize_review_count)"
   ]
  },
  {
   "cell_type": "code",
   "execution_count": 4,
   "metadata": {},
   "outputs": [
    {
     "data": {
      "text/plain": [
       "<AxesSubplot:ylabel='Recipe Name'>"
      ]
     },
     "execution_count": 4,
     "metadata": {},
     "output_type": "execute_result"
    },
    {
     "data": {
      "image/png": "[encoded data removed]",
      "text/plain": [
       "<Figure size 864x576 with 1 Axes>"
      ]
     },
     "metadata": {
      "needs_background": "light"
     },
     "output_type": "display_data"
    }
   ],
   "source": [
    "# Top 20 Recipes with highes review count\n",
    "\n",
    "recipe_df.nlargest(20, \"Review Count\") \\\n",
    ".plot(x=\"Recipe Name\", y=\"Review Count\", kind=\"barh\", figsize=(12, 8), rot=0)"
   ]
  },
  {
   "cell_type": "code",
   "execution_count": 5,
   "metadata": {},
   "outputs": [
    {
     "data": {
      "text/plain": [
       "<AxesSubplot:xlabel='Author'>"
      ]
     },
     "execution_count": 5,
     "metadata": {},
     "output_type": "execute_result"
    },
    {
     "data": {
      "image/png": "[encoded data removed]",
      "text/plain": [
       "<Figure size 864x576 with 1 Axes>"
      ]
     },
     "metadata": {
      "needs_background": "light"
     },
     "output_type": "display_data"
    }
   ],
   "source": [
    "# Top 20 Authors\n",
    "\n",
    "recipe_df.groupby(\"Author\").count() \\\n",
    "    .reset_index()[[\"Author\", \"Recipe Name\"]] \\\n",
    "    .set_index(\"Author\").nlargest(20, \"Recipe Name\") \\\n",
    "    .plot(kind=\"bar\", figsize=(12, 8), rot=90)"
   ]
  },
  {
   "cell_type": "code",
   "execution_count": 6,
   "metadata": {},
   "outputs": [
    {
     "data": {
      "text/html": [
       "<div>\n",
       "<style scoped>\n",
       "    .dataframe tbody tr th:only-of-type {\n",
       "        vertical-align: middle;\n",
       "    }\n",
       "\n",
       "    .dataframe tbody tr th {\n",
       "        vertical-align: top;\n",
       "    }\n",
       "\n",
       "    .dataframe thead th {\n",
       "        text-align: right;\n",
       "    }\n",
       "</style>\n",
       "<table border=\"1\" class=\"dataframe\">\n",
       "  <thead>\n",
       "    <tr style=\"text-align: right;\">\n",
       "      <th></th>\n",
       "      <th>index</th>\n",
       "      <th>Recipe Name</th>\n",
       "      <th>Review Count</th>\n",
       "      <th>Recipe Photo</th>\n",
       "      <th>Author</th>\n",
       "      <th>Prepare Time</th>\n",
       "      <th>Cook Time</th>\n",
       "      <th>Total Time</th>\n",
       "      <th>Ingredients</th>\n",
       "      <th>Directions</th>\n",
       "      <th>RecipeID</th>\n",
       "    </tr>\n",
       "  </thead>\n",
       "  <tbody>\n",
       "    <tr>\n",
       "      <th>0</th>\n",
       "      <td>0</td>\n",
       "      <td>Golden Crescent Rolls Recipe</td>\n",
       "      <td>304</td>\n",
       "      <td>https://images.media-allrecipes.com/userphotos...</td>\n",
       "      <td>Mike A.</td>\n",
       "      <td>25.0</td>\n",
       "      <td>15.0</td>\n",
       "      <td>190.0</td>\n",
       "      <td>yeast,water,white sugar,salt,egg,butter,flour,...</td>\n",
       "      <td>dissolve yeast in warm water.**stir in sugar, ...</td>\n",
       "      <td>7000</td>\n",
       "    </tr>\n",
       "    <tr>\n",
       "      <th>1</th>\n",
       "      <td>1</td>\n",
       "      <td>Poppy Seed Bread with Glaze Recipe</td>\n",
       "      <td>137</td>\n",
       "      <td>https://images.media-allrecipes.com/userphotos...</td>\n",
       "      <td>Christina Jun</td>\n",
       "      <td>15.0</td>\n",
       "      <td>60.0</td>\n",
       "      <td>80.0</td>\n",
       "      <td>flour,salt,baking powder,poppy,butter,vegetabl...</td>\n",
       "      <td>'preheat oven to 350 degrees f (175 degrees c)...</td>\n",
       "      <td>7001</td>\n",
       "    </tr>\n",
       "    <tr>\n",
       "      <th>2</th>\n",
       "      <td>2</td>\n",
       "      <td>Applesauce Bread I Recipe</td>\n",
       "      <td>124</td>\n",
       "      <td>https://images.media-allrecipes.com/userphotos...</td>\n",
       "      <td>GAF55</td>\n",
       "      <td>10.0</td>\n",
       "      <td>80.0</td>\n",
       "      <td>90.0</td>\n",
       "      <td>flour,egg,white sugar,vegetable oil,applesauce...</td>\n",
       "      <td>preheat oven to 350 degrees f (175 degrees c)....</td>\n",
       "      <td>7003</td>\n",
       "    </tr>\n",
       "    <tr>\n",
       "      <th>3</th>\n",
       "      <td>3</td>\n",
       "      <td>Apple Raisin Bread Recipe</td>\n",
       "      <td>39</td>\n",
       "      <td>https://images.media-allrecipes.com/userphotos...</td>\n",
       "      <td>Helen Hanson</td>\n",
       "      <td>15.0</td>\n",
       "      <td>60.0</td>\n",
       "      <td>75.0</td>\n",
       "      <td>flour,baking powder,baking soda,salt,cinnamon,...</td>\n",
       "      <td>preheat oven to 350 degrees f (175 degrees c)....</td>\n",
       "      <td>7006</td>\n",
       "    </tr>\n",
       "    <tr>\n",
       "      <th>4</th>\n",
       "      <td>4</td>\n",
       "      <td>Buttermilk Oatmeal Bread Recipe</td>\n",
       "      <td>41</td>\n",
       "      <td>https://images.media-allrecipes.com/userphotos...</td>\n",
       "      <td>Helen Hanson</td>\n",
       "      <td>10.0</td>\n",
       "      <td>60.0</td>\n",
       "      <td>100.0</td>\n",
       "      <td>oat,buttermilk,vegetable oil,egg,brown sugar,f...</td>\n",
       "      <td>mix oats with buttermilk.  let stand for 1/2 h...</td>\n",
       "      <td>7007</td>\n",
       "    </tr>\n",
       "    <tr>\n",
       "      <th>...</th>\n",
       "      <td>...</td>\n",
       "      <td>...</td>\n",
       "      <td>...</td>\n",
       "      <td>...</td>\n",
       "      <td>...</td>\n",
       "      <td>...</td>\n",
       "      <td>...</td>\n",
       "      <td>...</td>\n",
       "      <td>...</td>\n",
       "      <td>...</td>\n",
       "      <td>...</td>\n",
       "    </tr>\n",
       "    <tr>\n",
       "      <th>12340</th>\n",
       "      <td>12346</td>\n",
       "      <td>Hot Coffee Frosting Recipe</td>\n",
       "      <td>5</td>\n",
       "      <td>https://images.media-allrecipes.com/userphotos...</td>\n",
       "      <td>Jean</td>\n",
       "      <td>30.0</td>\n",
       "      <td>30.0</td>\n",
       "      <td>60.0</td>\n",
       "      <td>sugar,butter,cocoa powder,vanilla,coffee</td>\n",
       "      <td>'in a large bowl, combine confectioners'' suga...</td>\n",
       "      <td>27456</td>\n",
       "    </tr>\n",
       "    <tr>\n",
       "      <th>12341</th>\n",
       "      <td>12347</td>\n",
       "      <td>White Chocolate Blueberry Cheesecake Recipe</td>\n",
       "      <td>78</td>\n",
       "      <td>https://images.media-allrecipes.com/userphotos...</td>\n",
       "      <td>Scott M.</td>\n",
       "      <td>20.0</td>\n",
       "      <td>60.0</td>\n",
       "      <td>80.0</td>\n",
       "      <td>crust:,ham,almond,white sugar,butter,caramel,f...</td>\n",
       "      <td>preheat oven to 275 degrees f (135 degrees c)....</td>\n",
       "      <td>27478</td>\n",
       "    </tr>\n",
       "    <tr>\n",
       "      <th>12342</th>\n",
       "      <td>12348</td>\n",
       "      <td>'Aunt Anne''s Coffee Cake Recipe '</td>\n",
       "      <td>704</td>\n",
       "      <td>https://images.media-allrecipes.com/userphotos...</td>\n",
       "      <td>Mary</td>\n",
       "      <td>20.0</td>\n",
       "      <td>25.0</td>\n",
       "      <td>45.0</td>\n",
       "      <td>flour,white sugar,baking powder,salt,butter,eg...</td>\n",
       "      <td>preheat oven to 350 degrees f (175 degrees c)....</td>\n",
       "      <td>27491</td>\n",
       "    </tr>\n",
       "    <tr>\n",
       "      <th>12343</th>\n",
       "      <td>12349</td>\n",
       "      <td>Giant Ding Dong Cake Recipe</td>\n",
       "      <td>157</td>\n",
       "      <td>https://images.media-allrecipes.com/userphotos...</td>\n",
       "      <td>TheThreeDogKitchen</td>\n",
       "      <td>25.0</td>\n",
       "      <td>50.0</td>\n",
       "      <td>135.0</td>\n",
       "      <td>cake,chocolate,egg,water,vegetable oil,flour,m...</td>\n",
       "      <td>preheat oven to 350 degrees f (175 degrees c)....</td>\n",
       "      <td>27511</td>\n",
       "    </tr>\n",
       "    <tr>\n",
       "      <th>12344</th>\n",
       "      <td>12350</td>\n",
       "      <td>Peach Coffee Cake Recipe</td>\n",
       "      <td>10</td>\n",
       "      <td>https://images.media-allrecipes.com/userphotos...</td>\n",
       "      <td>David</td>\n",
       "      <td>15.0</td>\n",
       "      <td>50.0</td>\n",
       "      <td>65.0</td>\n",
       "      <td>peach,brown sugar,cornstarch,vegetable oil,flo...</td>\n",
       "      <td>preheat oven to 350 degrees f (175 degrees c)....</td>\n",
       "      <td>27546</td>\n",
       "    </tr>\n",
       "  </tbody>\n",
       "</table>\n",
       "<p>12345 rows × 11 columns</p>\n",
       "</div>"
      ],
      "text/plain": [
       "       index                                   Recipe Name  Review Count  \\\n",
       "0          0                 Golden Crescent Rolls Recipe            304   \n",
       "1          1           Poppy Seed Bread with Glaze Recipe            137   \n",
       "2          2                    Applesauce Bread I Recipe            124   \n",
       "3          3                    Apple Raisin Bread Recipe             39   \n",
       "4          4              Buttermilk Oatmeal Bread Recipe             41   \n",
       "...      ...                                           ...           ...   \n",
       "12340  12346                   Hot Coffee Frosting Recipe              5   \n",
       "12341  12347  White Chocolate Blueberry Cheesecake Recipe             78   \n",
       "12342  12348            'Aunt Anne''s Coffee Cake Recipe '           704   \n",
       "12343  12349                  Giant Ding Dong Cake Recipe            157   \n",
       "12344  12350                     Peach Coffee Cake Recipe             10   \n",
       "\n",
       "                                            Recipe Photo              Author  \\\n",
       "0      https://images.media-allrecipes.com/userphotos...             Mike A.   \n",
       "1      https://images.media-allrecipes.com/userphotos...       Christina Jun   \n",
       "2      https://images.media-allrecipes.com/userphotos...               GAF55   \n",
       "3      https://images.media-allrecipes.com/userphotos...        Helen Hanson   \n",
       "4      https://images.media-allrecipes.com/userphotos...        Helen Hanson   \n",
       "...                                                  ...                 ...   \n",
       "12340  https://images.media-allrecipes.com/userphotos...                Jean   \n",
       "12341  https://images.media-allrecipes.com/userphotos...            Scott M.   \n",
       "12342  https://images.media-allrecipes.com/userphotos...                Mary   \n",
       "12343  https://images.media-allrecipes.com/userphotos...  TheThreeDogKitchen   \n",
       "12344  https://images.media-allrecipes.com/userphotos...               David   \n",
       "\n",
       "       Prepare Time  Cook Time  Total Time  \\\n",
       "0              25.0       15.0       190.0   \n",
       "1              15.0       60.0        80.0   \n",
       "2              10.0       80.0        90.0   \n",
       "3              15.0       60.0        75.0   \n",
       "4              10.0       60.0       100.0   \n",
       "...             ...        ...         ...   \n",
       "12340          30.0       30.0        60.0   \n",
       "12341          20.0       60.0        80.0   \n",
       "12342          20.0       25.0        45.0   \n",
       "12343          25.0       50.0       135.0   \n",
       "12344          15.0       50.0        65.0   \n",
       "\n",
       "                                             Ingredients  \\\n",
       "0      yeast,water,white sugar,salt,egg,butter,flour,...   \n",
       "1      flour,salt,baking powder,poppy,butter,vegetabl...   \n",
       "2      flour,egg,white sugar,vegetable oil,applesauce...   \n",
       "3      flour,baking powder,baking soda,salt,cinnamon,...   \n",
       "4      oat,buttermilk,vegetable oil,egg,brown sugar,f...   \n",
       "...                                                  ...   \n",
       "12340           sugar,butter,cocoa powder,vanilla,coffee   \n",
       "12341  crust:,ham,almond,white sugar,butter,caramel,f...   \n",
       "12342  flour,white sugar,baking powder,salt,butter,eg...   \n",
       "12343  cake,chocolate,egg,water,vegetable oil,flour,m...   \n",
       "12344  peach,brown sugar,cornstarch,vegetable oil,flo...   \n",
       "\n",
       "                                              Directions  RecipeID  \n",
       "0      dissolve yeast in warm water.**stir in sugar, ...      7000  \n",
       "1      'preheat oven to 350 degrees f (175 degrees c)...      7001  \n",
       "2      preheat oven to 350 degrees f (175 degrees c)....      7003  \n",
       "3      preheat oven to 350 degrees f (175 degrees c)....      7006  \n",
       "4      mix oats with buttermilk.  let stand for 1/2 h...      7007  \n",
       "...                                                  ...       ...  \n",
       "12340  'in a large bowl, combine confectioners'' suga...     27456  \n",
       "12341  preheat oven to 275 degrees f (135 degrees c)....     27478  \n",
       "12342  preheat oven to 350 degrees f (175 degrees c)....     27491  \n",
       "12343  preheat oven to 350 degrees f (175 degrees c)....     27511  \n",
       "12344  preheat oven to 350 degrees f (175 degrees c)....     27546  \n",
       "\n",
       "[12345 rows x 11 columns]"
      ]
     },
     "execution_count": 6,
     "metadata": {},
     "output_type": "execute_result"
    }
   ],
   "source": [
    "# process Prepare Time, Cook Time, and Total Time\n",
    "\n",
    "def normalize_time_to_minutes(x):\n",
    "    data = x.split(\" \")\n",
    "    if len(data) == 2:\n",
    "        if data[1] == \"m\":\n",
    "            return int(data[0])\n",
    "        elif data[1] == \"h\":\n",
    "            return int(data[0])*60\n",
    "    elif len(data) == 4:\n",
    "        return (int(data[0])*60) + (int(data[2]))\n",
    "\n",
    "recipe_df[\"Cook Time\"] = recipe_df[\"Cook Time\"].apply(normalize_time_to_minutes)\n",
    "recipe_df[\"Prepare Time\"] = recipe_df[\"Prepare Time\"].apply(normalize_time_to_minutes)\n",
    "recipe_df[\"Total Time\"] = recipe_df[\"Total Time\"].apply(normalize_time_to_minutes)\n",
    "\n",
    "recipe_df"
   ]
  },
  {
   "cell_type": "code",
   "execution_count": 7,
   "metadata": {},
   "outputs": [
    {
     "data": {
      "text/plain": [
       "<AxesSubplot:ylabel='recipe'>"
      ]
     },
     "execution_count": 7,
     "metadata": {},
     "output_type": "execute_result"
    },
    {
     "data": {
      "image/png": "[encoded data removed]",
      "text/plain": [
       "<Figure size 864x576 with 1 Axes>"
      ]
     },
     "metadata": {
      "needs_background": "light"
     },
     "output_type": "display_data"
    }
   ],
   "source": [
    "# Top 20 Recipes with longest Cooking Time\n",
    "\n",
    "recipe_df.nlargest(20, \"Total Time\").plot(x=\"Recipe Name\", \n",
    "                                          y=[\"Prepare Time\", \"Cook Time\", \"Total Time\"],\n",
    "                                          figsize=(12,8), kind=\"barh\", rot=0,\n",
    "                                          ylabel=\"time\", xlabel=\"recipe\")"
   ]
  },
  {
   "cell_type": "markdown",
   "metadata": {},
   "source": [
    "### Tokenize Directions"
   ]
  },
  {
   "cell_type": "code",
   "execution_count": 8,
   "metadata": {},
   "outputs": [],
   "source": [
    "nlp = en_core_web_sm.load(disable=['parser', 'tagger', 'ner'])\n",
    "tokens = [nlp(direction) for direction in recipe_df[\"Directions\"].values]"
   ]
  },
  {
   "cell_type": "markdown",
   "metadata": {},
   "source": [
    "### Create vocabulary"
   ]
  },
  {
   "cell_type": "code",
   "execution_count": 9,
   "metadata": {},
   "outputs": [
    {
     "name": "stdout",
     "output_type": "stream",
     "text": [
      "Unique tokens : 14034\n"
     ]
    }
   ],
   "source": [
    "def get_vocab_from_tokens(tokens):\n",
    "    vocab = {\"<UNK>\": 1, \"<PAD>\": 0}\n",
    "    for txt in tokens:\n",
    "        for token in txt:\n",
    "            if token.text not in vocab.keys():\n",
    "                vocab[token.text] = len(vocab)\n",
    "    return vocab\n",
    "\n",
    "vocab = get_vocab_from_tokens(tokens)\n",
    "print(\"Unique tokens : {}\".format(len(vocab)))"
   ]
  },
  {
   "cell_type": "markdown",
   "metadata": {},
   "source": [
    "### Create Labels from Ingredients"
   ]
  },
  {
   "cell_type": "code",
   "execution_count": 10,
   "metadata": {},
   "outputs": [],
   "source": [
    "## filter, clean and get labels\n",
    "\n",
    "def _filter(token):\n",
    "    if len(token) < 2 or token.is_stop or token.is_digit or token.like_num: # or token.text[0].islower()\n",
    "        return False\n",
    "    return True\n",
    "\n",
    "def _clean(text):\n",
    "    return text\n",
    "\n",
    "def get_labels(ingredients, tokenized_instructions):\n",
    "    labels = []\n",
    "    for ing, ti in zip(ingredients, tokenized_instructions):\n",
    "        ing = ing.split(\",\")\n",
    "        #ing = [i.replace(\" \", \"_\") for i in ing]\n",
    "        l_i = []\n",
    "        ci = [_clean(t.text) for i in ing for t in nlp(i) if _filter(t) and len(_clean(t.text)) >= 2]\n",
    "        label = []\n",
    "        for token in ti:\n",
    "            l_i.append(any((c == token.text or c == token.text[:-1] or c[:-1] == token.text) for c in ci))\n",
    "        labels.append(l_i)\n",
    "    return labels\n",
    "\n",
    "\n",
    "# # test _filter and _clean for 1 item\n",
    "# ingredients = recipe_df[\"Ingredients\"][456].split(\",\")\n",
    "# ingredients = [i.replace(\" \", \"_\") for i in ingredients]\n",
    "# clean = [_clean(t.text) for i in ingredients for t in nlp(i) if _filter(t) and len(_clean(t.text)) >= 2]\n",
    "# clean\n",
    "\n",
    "labels = get_labels(recipe_df[\"Ingredients\"], tokens)"
   ]
  },
  {
   "cell_type": "code",
   "execution_count": 16,
   "metadata": {},
   "outputs": [
    {
     "data": {
      "text/plain": [
       "{'butter', 'eggs', 'flour', 'salt', 'sugar', 'yeast'}"
      ]
     },
     "execution_count": 16,
     "metadata": {},
     "output_type": "execute_result"
    }
   ],
   "source": [
    "# check a single entry\n",
    "\n",
    "set([t.text for t, l in zip(tokens[0], labels[0]) if l])"
   ]
  },
  {
   "cell_type": "markdown",
   "metadata": {},
   "source": [
    "### Get max length of recipes\n",
    "\n",
    "This is to find the length to pad, for the network inputs later. Based from the output, we will set MAX_LEN=300.\n",
    "And also, my machine is just an old macbook pro 2013. It's laggy and deteriorating already in terms of performance."
   ]
  },
  {
   "cell_type": "code",
   "execution_count": 27,
   "metadata": {},
   "outputs": [
    {
     "data": {
      "image/png": "[encoded data removed]",
      "text/plain": [
       "<Figure size 432x288 with 1 Axes>"
      ]
     },
     "metadata": {
      "needs_background": "light"
     },
     "output_type": "display_data"
    }
   ],
   "source": [
    "# plot in histogram \n",
    "plt.hist([len([t for t in token]) for token in tokens], bins=20);"
   ]
  },
  {
   "cell_type": "code",
   "execution_count": 29,
   "metadata": {},
   "outputs": [],
   "source": [
    "MAX_LEN = 300"
   ]
  },
  {
   "cell_type": "markdown",
   "metadata": {},
   "source": [
    "### Pad the sequence for a fixed length input"
   ]
  },
  {
   "cell_type": "code",
   "execution_count": 34,
   "metadata": {},
   "outputs": [
    {
     "name": "stdout",
     "output_type": "stream",
     "text": [
      "(12345, 300)\n",
      "(12345, 300, 1)\n"
     ]
    }
   ],
   "source": [
    "def process_sequences(tokens, max_len, vocab={\"<UNK>\": 1, \"<PAD>\": 0}):\n",
    "    X = [[vocab.get(w.text, vocab[\"<UNK>\"]) for w in s] for s in tokens]\n",
    "    return pad_sequences(maxlen=max_len, sequences=X, padding=\"post\", value=vocab[\"<PAD>\"])\n",
    "\n",
    "# prepare training data\n",
    "\n",
    "X_seq = process_sequences(tokens, max_len=MAX_LEN, vocab=vocab)\n",
    "print(X_seq.shape)\n",
    "\n",
    "# prepare training labels\n",
    "\n",
    "y_seq = []\n",
    "for l in labels:\n",
    "    y_i = []\n",
    "    for i in range(MAX_LEN):\n",
    "        try:\n",
    "            y_i.append(float(l[i]))\n",
    "        except:\n",
    "            y_i.append(0.0)\n",
    "    y_seq.append(np.array(y_i))\n",
    "y_seq = np.array(y_seq)\n",
    "y_seq = y_seq.reshape(y_seq.shape[0], y_seq.shape[1], 1)\n",
    "print(y_seq.shape)"
   ]
  },
  {
   "cell_type": "markdown",
   "metadata": {},
   "source": [
    "### Build LSTM Network Architecture"
   ]
  },
  {
   "cell_type": "code",
   "execution_count": 37,
   "metadata": {},
   "outputs": [
    {
     "name": "stdout",
     "output_type": "stream",
     "text": [
      "Model: \"sequential_2\"\n",
      "_________________________________________________________________\n",
      "Layer (type)                 Output Shape              Param #   \n",
      "=================================================================\n",
      "embedding_1 (Embedding)      (None, None, 50)          701700    \n",
      "_________________________________________________________________\n",
      "spatial_dropout1d_2 (Spatial (None, None, 50)          0         \n",
      "_________________________________________________________________\n",
      "bidirectional_2 (Bidirection (None, None, 128)         58880     \n",
      "_________________________________________________________________\n",
      "spatial_dropout1d_3 (Spatial (None, None, 128)         0         \n",
      "_________________________________________________________________\n",
      "bidirectional_3 (Bidirection (None, None, 128)         98816     \n",
      "_________________________________________________________________\n",
      "time_distributed_1 (TimeDist (None, None, 1)           129       \n",
      "=================================================================\n",
      "Total params: 859,525\n",
      "Trainable params: 859,525\n",
      "Non-trainable params: 0\n",
      "_________________________________________________________________\n"
     ]
    }
   ],
   "source": [
    "def build_model(vocab):\n",
    "    model = None\n",
    "    try:\n",
    "        model = tf.keras.Sequential()\n",
    "        model.add(layers.Embedding(input_dim=len(vocab), mask_zero=True, output_dim=50))\n",
    "        model.add(layers.SpatialDropout1D(0.2))\n",
    "        model.add(layers.Bidirectional(layers.LSTM(units=64, return_sequences=True)))\n",
    "        model.add(layers.SpatialDropout1D(0.2))\n",
    "        model.add(layers.Bidirectional(layers.LSTM(units=64, return_sequences=True)))\n",
    "        model.add(layers.TimeDistributed(layers.Dense(1, activation='sigmoid')))\n",
    "        model.compile(optimizer=tf.keras.optimizers.Adam(0.001), loss='binary_crossentropy', metrics=['accuracy'])\n",
    "    except Exception as ex:\n",
    "        print(\"Problem in building network architecture : {}\".format(ex))\n",
    "        \n",
    "    return model\n",
    "\n",
    "model = build_model(vocab)\n",
    "if model:\n",
    "    model.summary()"
   ]
  },
  {
   "cell_type": "markdown",
   "metadata": {},
   "source": [
    "### Train / Fit"
   ]
  },
  {
   "cell_type": "code",
   "execution_count": 38,
   "metadata": {},
   "outputs": [
    {
     "name": "stdout",
     "output_type": "stream",
     "text": [
      "Epoch 1/10\n",
      "44/44 [==============================] - 178s 4s/step - loss: 0.1670 - accuracy: 0.8526 - val_loss: 0.1073 - val_accuracy: 0.8899\n",
      "Epoch 2/10\n",
      "44/44 [==============================] - 143s 3s/step - loss: 0.0955 - accuracy: 0.8974 - val_loss: 0.0773 - val_accuracy: 0.8951\n",
      "Epoch 3/10\n",
      "44/44 [==============================] - 150s 3s/step - loss: 0.0672 - accuracy: 0.9100 - val_loss: 0.0257 - val_accuracy: 0.9730\n",
      "Epoch 4/10\n",
      "44/44 [==============================] - 127s 3s/step - loss: 0.0226 - accuracy: 0.9759 - val_loss: 0.0204 - val_accuracy: 0.9780\n",
      "Epoch 5/10\n",
      "44/44 [==============================] - 143s 3s/step - loss: 0.0203 - accuracy: 0.9784 - val_loss: 0.0194 - val_accuracy: 0.9801\n",
      "Epoch 6/10\n",
      "44/44 [==============================] - 204s 5s/step - loss: 0.0185 - accuracy: 0.9810 - val_loss: 0.0187 - val_accuracy: 0.9814\n",
      "Epoch 7/10\n",
      "44/44 [==============================] - 163s 4s/step - loss: 0.0183 - accuracy: 0.9815 - val_loss: 0.0183 - val_accuracy: 0.9819\n",
      "Epoch 8/10\n",
      "44/44 [==============================] - 121s 3s/step - loss: 0.0175 - accuracy: 0.9822 - val_loss: 0.0179 - val_accuracy: 0.9824\n",
      "Epoch 9/10\n",
      "44/44 [==============================] - 121s 3s/step - loss: 0.0165 - accuracy: 0.9831 - val_loss: 0.0178 - val_accuracy: 0.9819\n",
      "Epoch 10/10\n",
      "44/44 [==============================] - 146s 3s/step - loss: 0.0170 - accuracy: 0.9829 - val_loss: 0.0176 - val_accuracy: 0.9826\n"
     ]
    }
   ],
   "source": [
    "history = model.fit(X_seq, y_seq, epochs=10, batch_size=256, validation_split=0.1)"
   ]
  },
  {
   "cell_type": "code",
   "execution_count": null,
   "metadata": {},
   "outputs": [],
   "source": []
  }
 ],
 "metadata": {
  "kernelspec": {
   "display_name": "benford",
   "language": "python",
   "name": "benford"
  },
  "language_info": {
   "codemirror_mode": {
    "name": "ipython",
    "version": 3
   },
   "file_extension": ".py",
   "mimetype": "text/x-python",
   "name": "python",
   "nbconvert_exporter": "python",
   "pygments_lexer": "ipython3",
   "version": "3.8.0"
  }
 },
 "nbformat": 4,
 "nbformat_minor": 4
}
