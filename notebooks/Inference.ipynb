{
 "cells": [
  {
   "cell_type": "code",
   "execution_count": 5,
   "metadata": {},
   "outputs": [],
   "source": [
    "import os, sys, pickle\n",
    "import numpy as np, pandas as pd\n",
    "import matplotlib.pyplot as plt\n",
    "\n",
    "# tf and keras\n",
    "import keras, tensorflow as tf\n",
    "from tensorflow.keras import layers\n",
    "from keras.preprocessing.sequence import pad_sequences\n",
    "\n",
    "# spacy\n",
    "import spacy\n",
    "import en_core_web_sm"
   ]
  },
  {
   "cell_type": "markdown",
   "metadata": {},
   "source": [
    "### Initialize necessary variables"
   ]
  },
  {
   "cell_type": "code",
   "execution_count": 4,
   "metadata": {},
   "outputs": [],
   "source": [
    "MAX_LEN = 300"
   ]
  },
  {
   "cell_type": "markdown",
   "metadata": {},
   "source": [
    "### Test input"
   ]
  },
  {
   "cell_type": "code",
   "execution_count": 32,
   "metadata": {},
   "outputs": [],
   "source": [
    "test_direction = '''\n",
    "preheat oven to 350 degrees f (175 degrees c). lightly grease and flour one 9x13 inch cake pan.**\n",
    "beat vegetable oil and eggs until foamy. add the sugar, flour, ground cinnamon, baking, soda, salt, \n",
    "and vanilla and mix well. stir in the diced apples. pour batter into prepared pan.**bake at 350 degrees f \n",
    "(175 degrees c) for 30 to 40 minutes. cool cake in pan for 10 minutes. cake needs no frosting.**\n",
    "'''.strip()\n",
    "\n",
    "test_ingredients = 'egg,vegetable oil,white sugar,flour,cinnamon,baking soda,salt,vanilla,apple'"
   ]
  },
  {
   "cell_type": "markdown",
   "metadata": {},
   "source": [
    "### Load model and vocab"
   ]
  },
  {
   "cell_type": "code",
   "execution_count": 36,
   "metadata": {},
   "outputs": [],
   "source": [
    "# load model\n",
    "\n",
    "model_path = \"../models/fs_lstm_v1.0.h5\"\n",
    "model = keras.models.load_model(model_path)\n",
    "vocab = pickle.load(open(\"../models/vocab_v1.0.pkl\", \"rb\"))\n",
    "# tokens = pickle.load(open(\"../models/tokens_v1.0.pkl\", \"rb\"))"
   ]
  },
  {
   "cell_type": "markdown",
   "metadata": {},
   "source": [
    "### Prepare test input"
   ]
  },
  {
   "cell_type": "code",
   "execution_count": 37,
   "metadata": {},
   "outputs": [
    {
     "name": "stdout",
     "output_type": "stream",
     "text": [
      "(1, 300)\n"
     ]
    }
   ],
   "source": [
    "# process sequence from test input\n",
    "\n",
    "def process_sequences(tokens, max_len, vocab={\"<UNK>\": 1, \"<PAD>\": 0}):\n",
    "    X = [[vocab.get(w.text, vocab[\"<UNK>\"]) for w in s] for s in tokens]\n",
    "    return pad_sequences(maxlen=max_len, sequences=X, padding=\"post\", value=vocab[\"<PAD>\"])\n",
    "\n",
    "\n",
    "nlp = en_core_web_sm.load(disable=['parser', 'tagger', 'ner'])\n",
    "test_tokens = [nlp(test_direction.strip())]\n",
    "\n",
    "X_test = process_sequences(test_tokens, max_len=MAX_LEN, vocab=vocab)\n",
    "print(X_test.shape)"
   ]
  },
  {
   "cell_type": "markdown",
   "metadata": {},
   "source": [
    "### Predict test input"
   ]
  },
  {
   "cell_type": "code",
   "execution_count": 39,
   "metadata": {},
   "outputs": [
    {
     "name": "stdout",
     "output_type": "stream",
     "text": [
      "1/1 [==============================] - 0s 62ms/step\n"
     ]
    },
    {
     "data": {
      "text/plain": [
       "{'apples',\n",
       " 'baking',\n",
       " 'cake',\n",
       " 'cinnamon',\n",
       " 'eggs',\n",
       " 'flour',\n",
       " 'ground',\n",
       " 'oil',\n",
       " 'salt',\n",
       " 'soda',\n",
       " 'sugar',\n",
       " 'vanilla',\n",
       " 'vegetable'}"
      ]
     },
     "execution_count": 39,
     "metadata": {},
     "output_type": "execute_result"
    }
   ],
   "source": [
    "y_pred = model.predict(X_test, verbose=1)[0]\n",
    "y_pred = y_pred > 0.05\n",
    "ingreds = [t.text for t, p in zip(test_tokens[0], y_pred) if p]\n",
    "ingreds = [i for i in ingreds if i != \"\\n\"]\n",
    "ingreds = set(ingreds)\n",
    "ingreds"
   ]
  },
  {
   "cell_type": "code",
   "execution_count": 28,
   "metadata": {},
   "outputs": [
    {
     "data": {
      "text/plain": [
       "[\n",
       " preheat oven to 350 degrees f (175 degrees c). lightly grease and flour one 9x13 inch cake pan.**\n",
       " beat vegetable oil and eggs until foamy. add the sugar, flour, ground cinnamon, baking, soda, salt, \n",
       " and vanilla and mix well. stir in the diced apples. pour batter into prepared pan.**bake at 350 degrees f \n",
       " (175 degrees c) for 30 to 40 minutes. cool cake in pan for 10 minutes. cake needs no frosting.**]"
      ]
     },
     "execution_count": 28,
     "metadata": {},
     "output_type": "execute_result"
    }
   ],
   "source": [
    "test_tokens"
   ]
  },
  {
   "cell_type": "code",
   "execution_count": null,
   "metadata": {},
   "outputs": [],
   "source": []
  },
  {
   "cell_type": "code",
   "execution_count": null,
   "metadata": {},
   "outputs": [],
   "source": []
  }
 ],
 "metadata": {
  "kernelspec": {
   "display_name": "benford",
   "language": "python",
   "name": "benford"
  },
  "language_info": {
   "codemirror_mode": {
    "name": "ipython",
    "version": 3
   },
   "file_extension": ".py",
   "mimetype": "text/x-python",
   "name": "python",
   "nbconvert_exporter": "python",
   "pygments_lexer": "ipython3",
   "version": "3.8.0"
  }
 },
 "nbformat": 4,
 "nbformat_minor": 4
}
