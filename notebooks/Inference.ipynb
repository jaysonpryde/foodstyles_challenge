{
 "cells": [
  {
   "cell_type": "code",
   "execution_count": 1,
   "metadata": {},
   "outputs": [
    {
     "name": "stderr",
     "output_type": "stream",
     "text": [
      "Matplotlib created a temporary config/cache directory at /var/folders/sj/dsbk_7_d7y7d5211gj7flsvh0000gn/T/matplotlib-eabtffwl because the default path (/Users/jaysonp/.matplotlib) is not a writable directory; it is highly recommended to set the MPLCONFIGDIR environment variable to a writable directory, in particular to speed up the import of Matplotlib and to better support multiprocessing.\n"
     ]
    }
   ],
   "source": [
    "import os, re, sys, pickle\n",
    "import numpy as np, pandas as pd\n",
    "import matplotlib.pyplot as plt\n",
    "\n",
    "# tf and keras\n",
    "import keras, tensorflow as tf\n",
    "from tensorflow.keras import layers\n",
    "from keras.preprocessing.sequence import pad_sequences\n",
    "\n",
    "# spacy\n",
    "import spacy\n",
    "import en_core_web_sm"
   ]
  },
  {
   "cell_type": "markdown",
   "metadata": {},
   "source": [
    "### Initialize necessary variables"
   ]
  },
  {
   "cell_type": "code",
   "execution_count": 2,
   "metadata": {},
   "outputs": [],
   "source": [
    "MAX_LEN = 300"
   ]
  },
  {
   "cell_type": "markdown",
   "metadata": {},
   "source": [
    "### Test input"
   ]
  },
  {
   "cell_type": "code",
   "execution_count": 3,
   "metadata": {},
   "outputs": [],
   "source": [
    "test_recipe = {\"recipe_2\": '''preheat oven to 350 degrees f (175 degrees c).**blend butter or margarine, sugar, egg, \n",
    "banana, dissolved coffee, and vanilla in food processor for 2 minutes. add flour, salt, baking powder, and soda, \n",
    "and blend just until flour disappears. add chocolate chips and mix in with wooden spoon. spoon mixture into 15 to 18 \n",
    "paper-lined muffin cups.**bake for 25 minutes.  cool on wire racks.**''',\n",
    "              \"recipe_1\": '''preheat oven to 350 degrees f (175 degrees c). lightly grease and flour one 9x13 inch cake pan.**\n",
    "# beat vegetable oil and eggs until foamy. add the sugar, flour, ground cinnamon, baking, soda, salt, \n",
    "# and vanilla and mix well. stir in the diced apples. pour batter into prepared pan.**bake at 350 degrees f \n",
    "# (175 degrees c) for 30 to 40 minutes. cool cake in pan for 10 minutes. cake needs no frosting.**'''}"
   ]
  },
  {
   "cell_type": "markdown",
   "metadata": {},
   "source": [
    "### Load model and vocab"
   ]
  },
  {
   "cell_type": "code",
   "execution_count": 4,
   "metadata": {},
   "outputs": [],
   "source": [
    "# load model\n",
    "\n",
    "model_path = \"../models/fs_lstm_v1.0.h5\"\n",
    "model = keras.models.load_model(model_path)\n",
    "vocab = pickle.load(open(\"../models/vocab_v1.0.pkl\", \"rb\"))\n",
    "# tokens = pickle.load(open(\"../models/tokens_v1.0.pkl\", \"rb\"))"
   ]
  },
  {
   "cell_type": "markdown",
   "metadata": {},
   "source": [
    "### Prediction helper functions"
   ]
  },
  {
   "cell_type": "code",
   "execution_count": 5,
   "metadata": {},
   "outputs": [],
   "source": [
    "# process sequence from test input\n",
    "\n",
    "def process_sequences(tokens, max_len, vocab={\"<UNK>\": 1, \"<PAD>\": 0}):\n",
    "    X = [[vocab.get(w.text, vocab[\"<UNK>\"]) for w in s] for s in tokens]\n",
    "    return pad_sequences(maxlen=max_len, sequences=X, padding=\"post\", value=vocab[\"<PAD>\"])\n",
    "\n",
    "def predict(model, test, test_tokens):\n",
    "    ingredients = None\n",
    "    try:\n",
    "        y_pred = model.predict(test, verbose=1)[0]\n",
    "        pred = y_pred > 0.05\n",
    "        ing = [t.text for t, p in zip(test_tokens[0], pred) if p]\n",
    "        ing = [i for i in ing if i != \"\\n\"]\n",
    "        ingredients = list(set(ing))\n",
    "    except Exception as ex:\n",
    "        print(\"Problem in predicting input : {}\".format(ex))\n",
    "        \n",
    "    return ingredients\n",
    "\n",
    "def format_output_pred(predictions, test_recipe):\n",
    "    formatted_pred = {}\n",
    "    for pred in predictions:\n",
    "        p = \"\"\n",
    "        starts = [m.start() for m in re.finditer(pred, test_recipe)]\n",
    "        if len(starts) == 0:\n",
    "            starts = [m.start() for m in re.finditer(pred[:-1], test_recipe)]\n",
    "            if len(starts) == 0: \n",
    "                continue\n",
    "            else:\n",
    "                p = pred[:-1]\n",
    "        else:\n",
    "            p = pred\n",
    "            \n",
    "        ends = [i+len(p) for i in starts]\n",
    "        idxs = [(s,e) for s,e in zip(starts, ends)]\n",
    "        formatted_pred[p] = idxs    \n",
    "        \n",
    "    return formatted_pred"
   ]
  },
  {
   "cell_type": "markdown",
   "metadata": {},
   "source": [
    "### Predict test input"
   ]
  },
  {
   "cell_type": "code",
   "execution_count": 6,
   "metadata": {},
   "outputs": [
    {
     "name": "stdout",
     "output_type": "stream",
     "text": [
      "1/1 [==============================] - 5s 5s/step\n",
      "1/1 [==============================] - 0s 142ms/step\n"
     ]
    },
    {
     "data": {
      "text/plain": [
       "{'recipe_2': {'vanilla': [(118, 125)],\n",
       "  'coffee': [(106, 112)],\n",
       "  'baking': [(176, 182)],\n",
       "  'margarine': [(64, 73)],\n",
       "  'sugar': [(75, 80)],\n",
       "  'butter': [(54, 60)],\n",
       "  'egg': [(82, 85)],\n",
       "  'flour': [(163, 168), (223, 228)],\n",
       "  'salt': [(170, 174)],\n",
       "  'powder': [(183, 189)],\n",
       "  'banana': [(88, 94)],\n",
       "  'soda': [(195, 199)],\n",
       "  'chocolate': [(245, 254)]},\n",
       " 'recipe_1': {'vanilla': [(207, 214)],\n",
       "  'ground': [(163, 169)],\n",
       "  'baking': [(180, 186)],\n",
       "  'vegetable': [(105, 114)],\n",
       "  'cinnamon': [(170, 178)],\n",
       "  'sugar': [(149, 154)],\n",
       "  'soda': [(188, 192)],\n",
       "  'flour': [(66, 71), (156, 161)],\n",
       "  'salt': [(194, 198)],\n",
       "  'apples': [(247, 253)],\n",
       "  'cake': [(86, 90), (355, 359), (383, 387)],\n",
       "  'oil': [(115, 118)],\n",
       "  'eggs': [(123, 127)]}}"
      ]
     },
     "execution_count": 6,
     "metadata": {},
     "output_type": "execute_result"
    }
   ],
   "source": [
    "nlp = en_core_web_sm.load(disable=['parser', 'tagger', 'ner'])\n",
    "\n",
    "formatted_output = {}\n",
    "\n",
    "for k in test_recipe.keys():\n",
    "    test_tokens = [nlp(test_recipe[k].strip())]\n",
    "    X_test = process_sequences(test_tokens, max_len=MAX_LEN, vocab=vocab)\n",
    "    pred_ings = predict(model, X_test, test_tokens)\n",
    "    formatted_output.update({k:format_output_pred(pred_ings, test_recipe[k])})\n",
    "    \n",
    "formatted_output "
   ]
  },
  {
   "cell_type": "code",
   "execution_count": null,
   "metadata": {},
   "outputs": [],
   "source": []
  }
 ],
 "metadata": {
  "kernelspec": {
   "display_name": "benford",
   "language": "python",
   "name": "benford"
  },
  "language_info": {
   "codemirror_mode": {
    "name": "ipython",
    "version": 3
   },
   "file_extension": ".py",
   "mimetype": "text/x-python",
   "name": "python",
   "nbconvert_exporter": "python",
   "pygments_lexer": "ipython3",
   "version": "3.8.0"
  }
 },
 "nbformat": 4,
 "nbformat_minor": 4
}
